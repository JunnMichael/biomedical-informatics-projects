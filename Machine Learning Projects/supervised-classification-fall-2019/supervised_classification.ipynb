{
 "cells": [
  {
   "cell_type": "markdown",
   "id": "01e40f6e",
   "metadata": {},
   "source": [
    "## Supervised Classification\n",
    "\n",
    "Popular supervised ML techniques for classification were used (Decision trees, K-Nearest Neighbors, Naïve Bayes, and support vector machines). Several datasets were used from the UCI Machine Learning Repository (https://archive.ics.uci.edu/ml/)."
   ]
  },
  {
   "cell_type": "code",
   "execution_count": 1,
   "id": "7471db95",
   "metadata": {},
   "outputs": [],
   "source": [
    "import sklearn\n",
    "from sklearn.impute import SimpleImputer\n",
    "from sklearn.naive_bayes import GaussianNB\n",
    "from sklearn.neighbors import KNeighborsClassifier\n",
    "from sklearn.svm import SVC\n",
    "from sklearn.tree import DecisionTreeClassifier\n",
    "from sklearn.metrics import accuracy_score, precision_score, recall_score, f1_score\n",
    "from sklearn.model_selection import train_test_split\n",
    "import pandas as pd\n",
    "import warnings\n",
    "warnings.filterwarnings('ignore')"
   ]
  },
  {
   "cell_type": "code",
   "execution_count": 2,
   "id": "c4874927",
   "metadata": {},
   "outputs": [],
   "source": [
    "datasets = ['breast_cancer','hyperthyroidism','cervical_cancer','liver_cancer']"
   ]
  },
  {
   "cell_type": "code",
   "execution_count": 3,
   "id": "f9757b68",
   "metadata": {},
   "outputs": [],
   "source": [
    "classifiers = {\n",
    "    \"Decision-Tree\": DecisionTreeClassifier(max_depth=5, random_state=1),\n",
    "    \"K-NN\": KNeighborsClassifier(n_neighbors=3),\n",
    "    \"Naive-Bayes\": GaussianNB(),\n",
    "    \"SVM\": SVC(kernel='rbf', gamma=2, C=1, random_state=1)\n",
    "}"
   ]
  },
  {
   "cell_type": "markdown",
   "id": "daabc88f",
   "metadata": {},
   "source": [
    "### Load Data & Preprocessing"
   ]
  },
  {
   "cell_type": "code",
   "execution_count": 4,
   "id": "327aab78",
   "metadata": {},
   "outputs": [],
   "source": [
    "def read_data(dataset_id):\n",
    "\n",
    "    if dataset_id == 'breast_cancer':\n",
    "        data = pd.read_csv('wdbc.data', header=None)\n",
    "        \n",
    "    elif dataset_id == 'hyperthyroidism':\n",
    "        data = pd.read_csv('allhyper.data', header=None).append(pd.read_csv('allhyper.test', header=None), ignore_index=True)\n",
    "        data[data.columns[-1]] = data[data.columns[-1]].str.split('.').str[0]\n",
    "        \n",
    "    elif dataset_id == 'cervical_cancer':\n",
    "        data = pd.read_csv('risk_factors_cervical_cancer.csv')\n",
    "        data.drop(['Dx:Cancer', 'Dx:CIN', 'Dx:HPV', 'Dx', 'Hinselmann', 'Schiller', 'Citology'], axis=1, inplace=True)\n",
    "        \n",
    "    else:\n",
    "        data = pd.read_csv('Indian Liver Patient Dataset (ILPD).csv', header=None)\n",
    "        \n",
    "    data = data.apply(pd.to_numeric, errors='coerce').fillna(data)    \n",
    "    data.replace('?', float('nan'), inplace=True)\n",
    "    \n",
    "    return data"
   ]
  },
  {
   "cell_type": "markdown",
   "id": "4212aa87",
   "metadata": {},
   "source": [
    "### Return Outcome Values\n",
    "\n",
    "A set containing all possible outcome values and distribution."
   ]
  },
  {
   "cell_type": "code",
   "execution_count": 5,
   "id": "af9afacb",
   "metadata": {},
   "outputs": [],
   "source": [
    "def outcome_values(dataset_id, dataset):\n",
    "    \n",
    "    if dataset_id == 'breast_cancer':\n",
    "        values = dataset[1].value_counts().to_dict()\n",
    "    else:\n",
    "        values = dataset[dataset.columns[-1]].value_counts().to_dict()\n",
    "    \n",
    "    return values"
   ]
  },
  {
   "cell_type": "markdown",
   "id": "56a7d6d4",
   "metadata": {},
   "source": [
    "### Model Training"
   ]
  },
  {
   "cell_type": "code",
   "execution_count": 6,
   "id": "4a631991",
   "metadata": {},
   "outputs": [],
   "source": [
    "def classify(dataset_id, dataset):\n",
    "    \n",
    "    # Additional preprocessing - Binarize discrete values\n",
    "    if dataset_id == 'hyperthyroidism':\n",
    "        new_dataset = pd.concat([dataset.iloc[:,:-2], pd.get_dummies(dataset.iloc[:,-2]), dataset.iloc[:,-1]], axis=1)\n",
    "        new_dataset.replace({'F': 0, 'M': 1, 'f': 0, 't': 1}, inplace=True)\n",
    "        X = new_dataset.iloc[:, :-1].values.tolist()\n",
    "        y = new_dataset.iloc[:, -1:].values.tolist()\n",
    "    elif dataset_id == 'liver_cancer':\n",
    "        new_dataset = dataset.replace({'Female': 0, 'Male': 1})\n",
    "        X = new_dataset.iloc[:, :-1].values.tolist()\n",
    "        y = new_dataset.iloc[:, -1:].values.tolist()\n",
    "    elif dataset_id == 'breast_cancer':\n",
    "        X = dataset.drop(1, axis=1).values.tolist()\n",
    "        y = dataset[1].values.tolist()\n",
    "    else:\n",
    "        X = dataset.iloc[:, :-1].values.tolist()\n",
    "        y = dataset.iloc[:, -1:].values.tolist()\n",
    "    \n",
    "    # Split dataset to training and testing sets\n",
    "    X_train, X_test, y_train, y_test = train_test_split(X, y, test_size=0.2, random_state=0)\n",
    "    \n",
    "    # Impute missing values\n",
    "    imputer = SimpleImputer(missing_values=float('nan'), strategy='mean')\n",
    "    imputer.fit(X_train)\n",
    "    X_train = imputer.transform(X_train)\n",
    "    X_test = imputer.transform(X_test)\n",
    "    \n",
    "    # Training & testing\n",
    "    model.fit(X_train, y_train)\n",
    "    \n",
    "    # Predictions\n",
    "    predictions = model.predict(X_test).tolist()\n",
    "    actual = y_test\n",
    "    \n",
    "    return predictions, actual"
   ]
  },
  {
   "cell_type": "markdown",
   "id": "3985a9c5",
   "metadata": {},
   "source": [
    "### Evaluation"
   ]
  },
  {
   "cell_type": "code",
   "execution_count": 7,
   "id": "8ba86308",
   "metadata": {},
   "outputs": [],
   "source": [
    "def evaluate(labels, gold, predictions):\n",
    "    evaluation = {}\n",
    "    evaluation['accuracy'] = accuracy_score(gold, predictions)\n",
    "    \n",
    "    for l in labels:\n",
    "        try:\n",
    "            evaluation[l] = {'precision': round(precision_score(gold, predictions, pos_label=l), 2),\n",
    "                              'recall': round(recall_score(gold, predictions, pos_label=l), 2),\n",
    "                              'f1': round(f1_score(gold, predictions, pos_label=l), 2)}\n",
    "        except: # multi-class\n",
    "            evaluation[l] = {'precision': round(precision_score(gold, predictions, average='macro', pos_label=l), 2),\n",
    "                             'recall': round(recall_score(gold, predictions, average='macro', pos_label=l), 2),\n",
    "                             'f1': round(f1_score(gold, predictions, average='macro', pos_label=l), 2)}\n",
    "            \n",
    "    return evaluation"
   ]
  },
  {
   "cell_type": "code",
   "execution_count": 8,
   "id": "2d60dc1f",
   "metadata": {},
   "outputs": [
    {
     "name": "stdout",
     "output_type": "stream",
     "text": [
      "* * * * * * * * * * * * * * * * * * * * * * * * * * * * * * * * * * * * * * * * * * * * * * * * * * * * * * * * * * * * * * * * \n",
      "DATASET: breast_cancer\n",
      "LABELS:  {'B': 357, 'M': 212}\n",
      "Decision-Tree {'accuracy': 0.9473684210526315, 'B': {'precision': 0.96, 'recall': 0.96, 'f1': 0.96}, 'M': {'precision': 0.94, 'recall': 0.94, 'f1': 0.94}} \n",
      "\n",
      "K-NN {'accuracy': 0.7894736842105263, 'B': {'precision': 0.76, 'recall': 0.94, 'f1': 0.84}, 'M': {'precision': 0.87, 'recall': 0.57, 'f1': 0.69}} \n",
      "\n",
      "Naive-Bayes {'accuracy': 0.5964912280701754, 'B': {'precision': 0.59, 'recall': 0.99, 'f1': 0.74}, 'M': {'precision': 0.67, 'recall': 0.04, 'f1': 0.08}} \n",
      "\n",
      "SVM {'accuracy': 0.5877192982456141, 'B': {'precision': 0.59, 'recall': 1.0, 'f1': 0.74}, 'M': {'precision': 0.0, 'recall': 0.0, 'f1': 0.0}} \n",
      "\n",
      "* * * * * * * * * * * * * * * * * * * * * * * * * * * * * * * * * * * * * * * * * * * * * * * * * * * * * * * * * * * * * * * * \n",
      "DATASET: hyperthyroidism\n",
      "LABELS:  {'negative': 3670, 'hyperthyroid': 79, 'goitre': 12, 'T3 toxic': 10, 'secondary toxic': 1}\n",
      "Decision-Tree {'accuracy': 0.9867549668874173, 'negative': {'precision': 0.55, 'recall': 0.75, 'f1': 0.62}, 'hyperthyroid': {'precision': 0.55, 'recall': 0.75, 'f1': 0.62}, 'goitre': {'precision': 0.55, 'recall': 0.75, 'f1': 0.62}, 'T3 toxic': {'precision': 0.55, 'recall': 0.75, 'f1': 0.62}, 'secondary toxic': {'precision': 0.55, 'recall': 0.75, 'f1': 0.62}} \n",
      "\n",
      "K-NN {'accuracy': 0.9801324503311258, 'negative': {'precision': 0.35, 'recall': 0.43, 'f1': 0.38}, 'hyperthyroid': {'precision': 0.35, 'recall': 0.43, 'f1': 0.38}, 'goitre': {'precision': 0.35, 'recall': 0.43, 'f1': 0.38}, 'T3 toxic': {'precision': 0.35, 'recall': 0.43, 'f1': 0.38}, 'secondary toxic': {'precision': 0.35, 'recall': 0.43, 'f1': 0.38}} \n",
      "\n",
      "Naive-Bayes {'accuracy': 0.31390728476821195, 'negative': {'precision': 0.32, 'recall': 0.79, 'f1': 0.24}, 'hyperthyroid': {'precision': 0.32, 'recall': 0.79, 'f1': 0.24}, 'goitre': {'precision': 0.32, 'recall': 0.79, 'f1': 0.24}, 'T3 toxic': {'precision': 0.32, 'recall': 0.79, 'f1': 0.24}, 'secondary toxic': {'precision': 0.32, 'recall': 0.79, 'f1': 0.24}} \n",
      "\n",
      "SVM {'accuracy': 0.9827814569536424, 'negative': {'precision': 0.25, 'recall': 0.25, 'f1': 0.25}, 'hyperthyroid': {'precision': 0.25, 'recall': 0.25, 'f1': 0.25}, 'goitre': {'precision': 0.25, 'recall': 0.25, 'f1': 0.25}, 'T3 toxic': {'precision': 0.25, 'recall': 0.25, 'f1': 0.25}, 'secondary toxic': {'precision': 0.25, 'recall': 0.25, 'f1': 0.25}} \n",
      "\n",
      "* * * * * * * * * * * * * * * * * * * * * * * * * * * * * * * * * * * * * * * * * * * * * * * * * * * * * * * * * * * * * * * * \n",
      "DATASET: cervical_cancer\n",
      "LABELS:  {0: 803, 1: 55}\n",
      "Decision-Tree {'accuracy': 0.9418604651162791, 0: {'precision': 0.95, 'recall': 0.99, 'f1': 0.97}, 1: {'precision': 0.0, 'recall': 0.0, 'f1': 0.0}} \n",
      "\n",
      "K-NN {'accuracy': 0.9418604651162791, 0: {'precision': 0.95, 'recall': 0.99, 'f1': 0.97}, 1: {'precision': 0.0, 'recall': 0.0, 'f1': 0.0}} \n",
      "\n",
      "Naive-Bayes {'accuracy': 0.19186046511627908, 0: {'precision': 0.96, 'recall': 0.16, 'f1': 0.27}, 1: {'precision': 0.05, 'recall': 0.88, 'f1': 0.09}} \n",
      "\n",
      "SVM {'accuracy': 0.9593023255813954, 0: {'precision': 0.96, 'recall': 1.0, 'f1': 0.98}, 1: {'precision': 1.0, 'recall': 0.12, 'f1': 0.22}} \n",
      "\n",
      "* * * * * * * * * * * * * * * * * * * * * * * * * * * * * * * * * * * * * * * * * * * * * * * * * * * * * * * * * * * * * * * * \n",
      "DATASET: liver_cancer\n",
      "LABELS:  {1: 416, 2: 167}\n",
      "Decision-Tree {'accuracy': 0.6752136752136753, 1: {'precision': 0.69, 'recall': 0.94, 'f1': 0.79}, 2: {'precision': 0.55, 'recall': 0.15, 'f1': 0.24}} \n",
      "\n",
      "K-NN {'accuracy': 0.6666666666666666, 1: {'precision': 0.71, 'recall': 0.85, 'f1': 0.77}, 2: {'precision': 0.5, 'recall': 0.31, 'f1': 0.38}} \n",
      "\n",
      "Naive-Bayes {'accuracy': 0.6068376068376068, 1: {'precision': 1.0, 'recall': 0.41, 'f1': 0.58}, 2: {'precision': 0.46, 'recall': 1.0, 'f1': 0.63}} \n",
      "\n",
      "SVM {'accuracy': 0.6752136752136753, 1: {'precision': 0.67, 'recall': 1.0, 'f1': 0.8}, 2: {'precision': 1.0, 'recall': 0.03, 'f1': 0.05}} \n",
      "\n"
     ]
    }
   ],
   "source": [
    "for dataset_id in datasets:\n",
    "    data = read_data(dataset_id)\n",
    "    \n",
    "    print('* ' * 64)\n",
    "    print('DATASET: %s' % dataset_id)\n",
    "    labels = outcome_values(dataset_id, data)\n",
    "    print('LABELS: ', labels)\n",
    "    \n",
    "    for _, model in classifiers.items():\n",
    "        res = classify(dataset_id, data)\n",
    "        pred = res[0]\n",
    "        actual = res[1]\n",
    "        print(_ + ' ' + str(evaluate(labels, actual, pred)), '\\n')"
   ]
  }
 ],
 "metadata": {
  "kernelspec": {
   "display_name": "Python 3 (ipykernel)",
   "language": "python",
   "name": "python3"
  },
  "language_info": {
   "codemirror_mode": {
    "name": "ipython",
    "version": 3
   },
   "file_extension": ".py",
   "mimetype": "text/x-python",
   "name": "python",
   "nbconvert_exporter": "python",
   "pygments_lexer": "ipython3",
   "version": "3.10.9"
  }
 },
 "nbformat": 4,
 "nbformat_minor": 5
}
